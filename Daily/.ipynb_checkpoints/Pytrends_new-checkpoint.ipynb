{
 "cells": [
  {
   "cell_type": "markdown",
   "id": "9dd91b9a-231b-4783-bd98-e3178d43c156",
   "metadata": {
    "tags": []
   },
   "source": [
    "## Import"
   ]
  },
  {
   "cell_type": "code",
   "execution_count": 1,
   "id": "c892fc4d-6529-41bb-ba59-167feabfaec6",
   "metadata": {},
   "outputs": [],
   "source": [
    "import pandas as pd\n",
    "import pytrends\n",
    "from pytrends.request import TrendReq\n",
    "from pytrends import dailydata\n",
    "pytrend = TrendReq()\n",
    "import time\n",
    "from IPython.display import clear_output"
   ]
  },
  {
   "cell_type": "markdown",
   "id": "2a8c6a72-9e04-4998-9388-16f8fa5b5cd1",
   "metadata": {
    "tags": []
   },
   "source": [
    "## Choose Keywords"
   ]
  },
  {
   "cell_type": "code",
   "execution_count": 2,
   "id": "24dfe5eb-b12d-4f74-a77a-80a205f52444",
   "metadata": {
    "tags": []
   },
   "outputs": [],
   "source": [
    "keywords = ['Bitcoin', 'BTC', 'BIT', 'Bitcoin Price', 'Digital Currency', 'Altcoin', 'Blockchain', 'Block', 'Crypto', 'Cryptography', 'Cryptocurrency', 'DeFi', 'DAPP', 'Ethereum', 'Bitcoin Mining', 'Bitcoin Wallet', 'Bitcoin News', 'Bitcoin Address', 'Bitcoin Investment', 'Fiat money', 'Fork', 'Stablecoin', 'ICO', 'Private Key', 'Hash Rate', 'P2P']"
   ]
  },
  {
   "cell_type": "code",
   "execution_count": 3,
   "id": "352b9956-f857-460a-9afe-54a1df6bc729",
   "metadata": {},
   "outputs": [
    {
     "data": {
      "text/plain": [
       "26"
      ]
     },
     "execution_count": 3,
     "metadata": {},
     "output_type": "execute_result"
    }
   ],
   "source": [
    "len(keywords)"
   ]
  },
  {
   "cell_type": "markdown",
   "id": "3807744e-cc2f-4e58-822e-02805a10715e",
   "metadata": {},
   "source": [
    "## Show Keywords Topics"
   ]
  },
  {
   "cell_type": "code",
   "execution_count": 4,
   "id": "cc9cc308-ee2a-4337-bbef-d04f7576e8d9",
   "metadata": {},
   "outputs": [],
   "source": [
    "def printTopics(keywords):\n",
    "    for word in keywords:\n",
    "        print(word)\n",
    "        for (i, item) in enumerate(pytrend.suggestions(keyword = word), start=0):\n",
    "            print(i, item)\n",
    "        print('\\n')"
   ]
  },
  {
   "cell_type": "code",
   "execution_count": 5,
   "id": "6845b810-c7ab-4675-9dc3-6d0e74d90a38",
   "metadata": {},
   "outputs": [
    {
     "name": "stdout",
     "output_type": "stream",
     "text": [
      "Bitcoin\n",
      "0 {'mid': '/m/05p0rrx', 'title': 'Bitcoin', 'type': 'Cryptocurrency'}\n",
      "1 {'mid': '/g/11fzz0b6bd', 'title': 'The Bitcoin Standard: The Decentralized Alternative to Central Banking', 'type': 'Book by Saifedean Ammous'}\n",
      "2 {'mid': '/g/11c53j0zjf', 'title': 'How Money Works: The Facts Visually Explained', 'type': 'Book'}\n",
      "3 {'mid': '/m/0_lgq95', 'title': 'Bitcoin ATM', 'type': 'Topic'}\n",
      "4 {'mid': '/g/11smp57wgl', 'title': 'Righteous Prey', 'type': 'Book by John Sandford'}\n",
      "\n",
      "\n",
      "BTC\n",
      "0 {'mid': '/m/05p0rrx', 'title': 'Bitcoin', 'type': 'Cryptocurrency'}\n",
      "1 {'mid': '/m/01_r0h', 'title': 'Boots', 'type': 'Healthcare company'}\n",
      "2 {'mid': '/m/0b_m41', 'title': 'Vivacom', 'type': 'Telecommunications company'}\n",
      "3 {'mid': '/g/11v42sfydb', 'title': 'BTC', 'type': 'Topic'}\n",
      "4 {'mid': '/g/11ll45xg_z', 'title': 'BtcTurk', 'type': 'Topic'}\n",
      "\n",
      "\n",
      "BIT\n",
      "0 {'mid': '/g/11f_sst0k4', 'title': 'BitDefender', 'type': 'Topic'}\n",
      "1 {'mid': '/m/05p0rrx', 'title': 'Bitcoin', 'type': 'Cryptocurrency'}\n",
      "2 {'mid': '/m/01qpbt', 'title': 'Bitters', 'type': 'Topic'}\n",
      "3 {'mid': '/m/078jl', 'title': 'Snake', 'type': 'Reptiles'}\n",
      "4 {'mid': '/g/11ng20_wsq', 'title': 'Bitsbox', 'type': 'Topic'}\n",
      "\n",
      "\n",
      "Bitcoin Price\n",
      "0 {'mid': '/g/11k6347z6l', 'title': 'Bitcoin Price', 'type': 'Software'}\n",
      "1 {'mid': '/g/11f57gj3hm', 'title': 'Technical Analysis of Cryptocurrencies', 'type': 'Book by Darren Chu'}\n",
      "2 {'mid': '/g/11r_td1wwl', 'title': 'Crypto Meerkat, Bitcoin price - Version 8 - Android', 'type': 'Topic'}\n",
      "3 {'mid': '/g/11r8wd9cpw', 'title': 'Bitcoprice, bitcoin price - Version 4 - Android', 'type': 'Topic'}\n",
      "4 {'mid': '/g/11smpgvk06', 'title': 'Bitcoin Price Charts - Version 15 - Android', 'type': 'Topic'}\n",
      "\n",
      "\n",
      "Digital Currency\n",
      "0 {'mid': '/m/0r8lyw7', 'title': 'Digital currency', 'type': 'Topic'}\n",
      "1 {'mid': '/g/11g9svs5sb', 'title': 'Central Bank Digital Currency', 'type': 'Topic'}\n",
      "2 {'mid': '/m/0965sb', 'title': 'Cryptocurrency exchange', 'type': 'Topic'}\n",
      "3 {'mid': '/g/11cn8xskl4', 'title': 'Digital Currency Group', 'type': 'Capital market company'}\n",
      "4 {'mid': '/g/11k64l4988', 'title': 'Digital currency prices', 'type': 'Software'}\n",
      "\n",
      "\n",
      "Altcoin\n",
      "0 {'mid': '/m/0vpj4_b', 'title': 'Cryptocurrency', 'type': 'Topic'}\n",
      "1 {'mid': '/g/11bxc77l76', 'title': 'Altcoins', 'type': 'Topic'}\n",
      "2 {'mid': '/g/11k6468m6p', 'title': 'AltCoinTrader', 'type': 'Software'}\n",
      "3 {'mid': '/g/11gmx_glcx', 'title': 'B Is for Bitcoin', 'type': 'Book by Graeme Moore'}\n",
      "4 {'mid': '/g/11j4pdyzx5', 'title': 'Rhian Lewis', 'type': 'Author'}\n",
      "\n",
      "\n",
      "Blockchain\n",
      "0 {'mid': '/m/0_1fcmj', 'title': 'Blockchain.com', 'type': 'Topic'}\n",
      "1 {'mid': '/g/11gf2dcwbj', 'title': 'Cardano', 'type': 'Blockchain platform'}\n",
      "2 {'mid': '/g/11f7cvslvw', 'title': 'Mr Bitcoin: How I Became a Millionaire At 21', 'type': 'Book by Mpho Dagada'}\n",
      "3 {'mid': '/g/11h5mdn4hx', 'title': 'Jaspreet Bindra', 'type': 'Author'}\n",
      "4 {'mid': '/g/11qh5y640t', 'title': 'Solana', 'type': 'Blockchain platform'}\n",
      "\n",
      "\n",
      "Block\n",
      "0 {'mid': '/m/0467_t', 'title': 'Concrete block', 'type': 'Topic'}\n",
      "1 {'mid': '/g/11c4bg6z20', 'title': 'H&R Block', 'type': 'Topic'}\n",
      "2 {'mid': '/g/11dyllp5s', 'title': 'Blocket.se', 'type': 'Topic'}\n",
      "3 {'mid': '/m/0b2t88', 'title': 'Butcher block', 'type': 'Topic'}\n",
      "4 {'mid': '/m/04557q', 'title': 'Glass brick', 'type': 'Topic'}\n",
      "\n",
      "\n",
      "Crypto\n",
      "0 {'mid': '/m/025nm6', 'title': 'Undescended testicle', 'type': 'Condition'}\n",
      "1 {'mid': '/m/0vpj4_b', 'title': 'Cryptocurrency', 'type': 'Topic'}\n",
      "2 {'mid': '/m/01ld0', 'title': 'Cryptography', 'type': 'Field of study'}\n",
      "3 {'mid': '/g/11tcg6dt8c', 'title': 'Cryptosteel', 'type': 'Topic'}\n",
      "4 {'mid': '/g/11jz92phts', 'title': 'CRYPTOTAG', 'type': 'Topic'}\n",
      "\n",
      "\n",
      "Cryptography\n",
      "0 {'mid': '/m/01ld0', 'title': 'Cryptography', 'type': 'Field of study'}\n",
      "1 {'mid': '/g/11fqq66rhf', 'title': 'Introduction to Linear Algebra', 'type': 'Textbook by Gilbert Strang'}\n",
      "2 {'mid': '/g/12bnz63r6', 'title': 'Network and System Security', 'type': 'Book'}\n",
      "3 {'mid': '/g/11s4rpvlnx', 'title': 'Quantum Computing For Dummies', 'type': 'Book by Bud E. Smith'}\n",
      "4 {'mid': '/g/11jmwtmfqh', 'title': 'CompTIA Security+ Study Guide: Exam SY0-601', 'type': 'Book by David Seidl and Mike Chapple'}\n",
      "\n",
      "\n",
      "Cryptocurrency\n",
      "0 {'mid': '/m/0vpj4_b', 'title': 'Cryptocurrency', 'type': 'Topic'}\n",
      "1 {'mid': '/g/11jg80cnbb', 'title': 'Ref Wayne', 'type': 'Author'}\n",
      "2 {'mid': '/g/12bm66b2n', 'title': 'Encyclopedia of Chart Patterns', 'type': 'Book by Thomas N. Bulkowski'}\n",
      "3 {'mid': '/g/11g_xzy8kd', 'title': 'Personal Finance For Dummies', 'type': 'Book by Eric Tyson'}\n",
      "4 {'mid': '/g/11pzkf7s6g', 'title': 'Tracers in the Dark: The Global Hunt for the Crime Lords of Cryptocurrency', 'type': 'Book by Andy Greenberg'}\n",
      "\n",
      "\n",
      "DeFi\n",
      "0 {'mid': '/g/12nwxv98s', 'title': 'Defi', 'type': 'Topic'}\n",
      "1 {'mid': '/m/0h99n', 'title': 'Attention deficit hyperactivity disorder', 'type': 'Disorder'}\n",
      "2 {'mid': '/m/026yf', 'title': 'Definition', 'type': 'Topic'}\n",
      "3 {'mid': '/m/02x2xmj', 'title': 'Vitamin B12 deficiency', 'type': 'Medical condition'}\n",
      "4 {'mid': '/g/113pfg2qj', 'title': 'Defibtech', 'type': 'Topic'}\n",
      "\n",
      "\n",
      "DAPP\n",
      "0 {'mid': '/g/11hcjtkkcv', 'title': 'Decentralized application', 'type': 'Topic'}\n",
      "1 {'mid': '/g/11q2v8fv0y', 'title': 'Dapplebay', 'type': 'Topic'}\n",
      "2 {'mid': '/g/11sq3243kx', 'title': 'Dapper Boi', 'type': 'Topic'}\n",
      "3 {'mid': '/g/11g6qlztn0', 'title': 'Dapper Dan', 'type': 'Topic'}\n",
      "4 {'mid': '/m/0lpwyn6', 'title': 'Dapper ORM', 'type': 'Software'}\n",
      "\n",
      "\n",
      "Ethereum\n",
      "0 {'mid': '/m/0108bn2x', 'title': 'Ethereum', 'type': 'Software'}\n",
      "1 {'mid': '/g/11g24jzg8x', 'title': 'Cryptocurrency Investing For Dummies', 'type': 'Book by Kiana Danial'}\n",
      "2 {'mid': '/g/11y1zltb87', 'title': 'Cem Hasoglu', 'type': 'Author'}\n",
      "3 {'mid': '/g/11gfp1z830', 'title': 'The Basics of Bitcoins and Blockchains: An Introduction to Cryptocurrencies and the Technology that Powers Them', 'type': 'Book by Antony Lewis'}\n",
      "4 {'mid': '/g/11rp_313w4', 'title': 'What is Ethereum & Ether ?', 'type': 'Topic'}\n",
      "\n",
      "\n",
      "Bitcoin Mining\n",
      "0 {'mid': '/g/11qgz2_44f', 'title': 'Bitcoin Mining', 'type': 'Topic'}\n",
      "1 {'mid': '/g/11ls3ptlnv', 'title': 'Bitcoin Mining Calculator', 'type': 'Software'}\n",
      "2 {'mid': '/g/11f8mr_lps', 'title': 'Bitcoin Mining', 'type': 'Topic'}\n",
      "3 {'mid': '/g/11gfp1z830', 'title': 'The Basics of Bitcoins and Blockchains: An Introduction to Cryptocurrencies and the Technology that Powers Them', 'type': 'Book by Antony Lewis'}\n",
      "4 {'mid': '/g/11l1j0ft8v', 'title': 'Bitcoin Mining - Game - Version 7.0 - iOS', 'type': 'Topic'}\n",
      "\n",
      "\n",
      "Bitcoin Wallet\n",
      "0 {'mid': '/g/11fsw_ffbn', 'title': 'Electrum Wallet', 'type': 'Topic'}\n",
      "1 {'mid': '/g/11r_ykqp7s', 'title': 'Xverse - Bitcoin Wallet', 'type': 'Software'}\n",
      "2 {'mid': '/g/11k321v4zv', 'title': 'Coinbase', 'type': 'Software'}\n",
      "3 {'mid': '/g/11mgsmk_31', 'title': 'Bitpapa', 'type': 'Software'}\n",
      "4 {'mid': '/g/11k0mc28p9', 'title': 'Bitcoin Wallet', 'type': 'Software'}\n",
      "\n",
      "\n",
      "Bitcoin News\n",
      "0 {'mid': '/g/11fk93s_gc', 'title': 'Narrative Economics: How Stories Go Viral and Drive Major Economic Events', 'type': 'Book by Robert J. Shiller'}\n",
      "1 {'mid': '/g/11rc4myv7g', 'title': 'Vijay Boyapati', 'type': 'Author'}\n",
      "2 {'mid': '/g/11k63l1n6j', 'title': 'Bitcoin news - sudan4tech - Version 6 - Android', 'type': 'Topic'}\n",
      "3 {'mid': '/g/11v599rf6r', 'title': 'Bitcoin News - Version 20 - Android', 'type': 'Topic'}\n",
      "4 {'mid': '/g/11y1crrd63', 'title': 'Cryptocurrency & Bitcoin News - Version 63 - Android', 'type': 'Topic'}\n",
      "\n",
      "\n",
      "Bitcoin Address\n",
      "0 {'mid': '/g/11k0mjz7b1', 'title': 'Bitcoin address viewer - Version 1.0.0 - iOS', 'type': 'Topic'}\n",
      "1 {'mid': '/g/11jm86h5dt', 'title': 'Bitcoin Address Observer - Version 2 - Android', 'type': 'Topic'}\n",
      "2 {'mid': '/g/11qngf15by', 'title': 'Islamic Fintech', 'type': 'Book'}\n",
      "3 {'mid': '/g/11fjsytxcb', 'title': 'The Forex Trading Course: A Self-Study Guide to Becoming a Successful Currency Trader', 'type': 'Book by Abe Cofnas'}\n",
      "4 {'mid': '/g/11dybf_ynb', 'title': 'Python: 5 Manuscripts - Python for Beginners, Python Programming, Hacking With Python, Tor, Bitcoin', 'type': 'Book by Joshua Welsh'}\n",
      "\n",
      "\n",
      "Bitcoin Investment\n",
      "0 {'mid': '/g/11bc726w35', 'title': 'Grayscale Bitcoin Trust', 'type': 'Company'}\n",
      "1 {'mid': '/g/11g24jzg8x', 'title': 'Cryptocurrency Investing For Dummies', 'type': 'Book by Kiana Danial'}\n",
      "2 {'mid': '/g/11cs6jf8kd', 'title': 'Blockchain For Dummies', 'type': 'Book by Tiana Laurence'}\n",
      "3 {'mid': '/g/11mh_x59xz', 'title': \"Summary of Chris Burniske & Jack Tatar's Cryptoassets\", 'type': 'Topic'}\n",
      "4 {'mid': '/g/11dxqcqdft', 'title': \"Cryptoassets: The Innovative Investor's Guide to Bitcoin and Beyond\", 'type': 'Book by Chris Burniske and Jack Tatar'}\n",
      "\n",
      "\n",
      "Fiat money\n",
      "0 {'mid': '/m/017txn', 'title': 'Fiat money', 'type': 'Topic'}\n",
      "1 {'mid': '/g/11hw51jnq9', 'title': 'NESARA and The Mark of The Beast', 'type': 'Book by Scott Young'}\n",
      "2 {'mid': '/g/11l20hpv0n', 'title': 'Broken Money: Why Our Financial System Is Failing Us and How We Can Make It Better', 'type': 'Book by Lyn Alden'}\n",
      "3 {'mid': '/g/11f7cvslvw', 'title': 'Mr Bitcoin: How I Became a Millionaire At 21', 'type': 'Book by Mpho Dagada'}\n",
      "4 {'mid': '/g/12bn2g032', 'title': 'Modern Money Mechanics: A Workbook on Bank Reserves and Deposit Expansion', 'type': 'Book'}\n",
      "\n",
      "\n",
      "Fork\n",
      "0 {'mid': '/m/01jfkf', 'title': 'Forklift', 'type': 'Topic'}\n",
      "1 {'mid': '/m/0dt3t', 'title': 'Fork', 'type': 'Topic'}\n",
      "2 {'mid': '/m/07n_g', 'title': 'Tuning fork', 'type': 'Topic'}\n",
      "3 {'mid': '/m/05mw4by', 'title': 'Cold sore', 'type': 'Topic'}\n",
      "4 {'mid': '/g/11jfvvjs26', 'title': 'Wild Fork Foods', 'type': 'Topic'}\n",
      "\n",
      "\n",
      "Stablecoin\n",
      "0 {'mid': '/g/11f760cfwp', 'title': 'Stablecoin', 'type': 'Topic'}\n",
      "1 {'mid': '/g/11vpndwbtv', 'title': 'Understanding Stablecoin Technology and Related Security Considerations', 'type': 'Topic'}\n",
      "2 {'mid': '/g/11t6kjvl7m', 'title': 'TrueFi has launched its first non-stablecoin portfolio, with WOO X managing the loans.', 'type': 'Topic'}\n",
      "3 {'mid': '/g/11p0zy8q0j', 'title': 'How Circle Built the USDC Stablecoin: A Blockchain Success Stories Single', 'type': 'Topic'}\n",
      "4 {'mid': '/g/11vjc3tft_', 'title': 'The Complete Tether Guide: All You Need to Know About Tether Before Investing.', 'type': 'Topic'}\n",
      "\n",
      "\n",
      "ICO\n",
      "0 {'mid': '/m/02h40lc', 'title': 'English Language', 'type': 'Spoken language'}\n",
      "1 {'mid': '/m/01051m12', 'title': 'Icom', 'type': 'Topic'}\n",
      "2 {'mid': '/g/11c5bjlg8x', 'title': 'I.C.O.N.', 'type': 'Topic'}\n",
      "3 {'mid': '/g/11dxd38n2y', 'title': 'Icotek', 'type': 'Topic'}\n",
      "4 {'mid': '/g/12nw4km91', 'title': 'Icon', 'type': 'Topic'}\n",
      "\n",
      "\n",
      "Private Key\n",
      "0 {'mid': '/g/11s6598b67', 'title': 'Becoming Free Indeed: My Story of Disentangling Faith from Fear', 'type': 'Book by Jinger Duggar Vuolo'}\n",
      "1 {'mid': '/g/11fm7907yq', 'title': 'Collaborative Problem Solving: An Evidence-Based Approach to Implementation and Practice', 'type': 'Book'}\n",
      "2 {'mid': '/g/11t8spl1ms', 'title': 'Key West Vacation Rentals', 'type': 'Topic'}\n",
      "3 {'mid': '/g/11fq_y9djc', 'title': 'SAP ACTIVATE: Project Management for Sap S/4hana and Sap S/4hana Cloud', 'type': 'Book by Jan Musil, Srivatsan Santhanam, and Sven Denecken'}\n",
      "4 {'mid': '/g/12365jd4', 'title': 'private key', 'type': 'Topic'}\n",
      "\n",
      "\n",
      "Hash Rate\n",
      "\n",
      "\n",
      "P2P\n",
      "0 {'mid': '/m/060b5', 'title': 'Peer-to-peer', 'type': 'File format genre'}\n",
      "1 {'mid': '/m/0gjq_7', 'title': 'Peer-to-peer lending', 'type': 'Topic'}\n",
      "2 {'mid': '/m/0cllkjg', 'title': 'Shanghai Guijiu Co', 'type': 'Distilleries company'}\n",
      "3 {'mid': '/g/11h2fx5fh8', 'title': 'Bitcoin: A Peer-to-Peer Electronic Cash System', 'type': 'Book by Satoshi Nakamoto'}\n",
      "4 {'mid': '/m/0dddls5', 'title': 'Peer-to-peer file sharing', 'type': 'Topic'}\n",
      "\n",
      "\n"
     ]
    }
   ],
   "source": [
    "printTopics(keywords)"
   ]
  },
  {
   "cell_type": "markdown",
   "id": "cd377bff-ac4d-4dcf-a785-6c19e493dfd7",
   "metadata": {
    "tags": []
   },
   "source": [
    "## Choose Keyword Topic"
   ]
  },
  {
   "cell_type": "code",
   "execution_count": 23,
   "id": "5ee463bf-3f84-4f6b-aec4-4019914594ce",
   "metadata": {},
   "outputs": [],
   "source": [
    "keyword_choices = [0, -1, -1, -1, 0, -1, 0, -1, -1, 0, 0, 0, 0, -1, 0, 0, -1, -1, -1, 0, -1, 0, -1, -1, -1, 0]"
   ]
  },
  {
   "cell_type": "code",
   "execution_count": 24,
   "id": "1e378dc8-88f1-4c82-b794-124670d0bab6",
   "metadata": {},
   "outputs": [],
   "source": [
    "def applyChoices(keywords, keyword_choices = [0] * len(keywords)):\n",
    "    return [keywords[i] if keyword_choices[i] == -1 else pytrend.suggestions(keyword = keywords[i])[keyword_choices[i]]['mid'] for i in range(len(keywords))]"
   ]
  },
  {
   "cell_type": "markdown",
   "id": "b1412ab2-f4b7-4537-87c7-6d52bd712f66",
   "metadata": {},
   "source": [
    "-1 means we don't use any suggestions, but the original keyword instead <br>\n",
    "0 or above means we use the corresponding suggestion"
   ]
  },
  {
   "cell_type": "code",
   "execution_count": 25,
   "id": "31bd724d-0388-4d5e-a165-d5ba20340609",
   "metadata": {},
   "outputs": [],
   "source": [
    "def createDict(keywords, keyword_choices = [0] * len(keywords)):\n",
    "    return {keywords[i] if keyword_choices[i] == -1 else pytrend.suggestions(keyword = keywords[i])[keyword_choices[i]]['mid'] : keywords[i] for i in range(len(keywords))}"
   ]
  },
  {
   "cell_type": "code",
   "execution_count": 26,
   "id": "2b2a81ff-0f7f-45cd-910e-bab9bb876904",
   "metadata": {},
   "outputs": [
    {
     "data": {
      "text/plain": [
       "['/m/05p0rrx',\n",
       " 'BTC',\n",
       " 'BIT',\n",
       " 'Bitcoin Price',\n",
       " '/m/0r8lyw7',\n",
       " 'Altcoin',\n",
       " '/m/0_1fcmj',\n",
       " 'Block',\n",
       " 'Crypto',\n",
       " '/m/01ld0',\n",
       " '/m/0vpj4_b',\n",
       " '/g/12nwxv98s',\n",
       " '/g/11hcjtkkcv',\n",
       " 'Ethereum',\n",
       " '/g/11qgz2_44f',\n",
       " '/g/11fsw_ffbn',\n",
       " 'Bitcoin News',\n",
       " 'Bitcoin Address',\n",
       " 'Bitcoin Investment',\n",
       " '/m/017txn',\n",
       " 'Fork',\n",
       " '/g/11f760cfwp',\n",
       " 'ICO',\n",
       " 'Private Key',\n",
       " 'Hash Rate',\n",
       " '/m/060b5']"
      ]
     },
     "execution_count": 26,
     "metadata": {},
     "output_type": "execute_result"
    }
   ],
   "source": [
    "exact_keywords = applyChoices(keywords = keywords, keyword_choices = keyword_choices)\n",
    "exact_keywords"
   ]
  },
  {
   "cell_type": "code",
   "execution_count": 27,
   "id": "c1fbd03c-2bea-467d-beee-f6b5e55a651a",
   "metadata": {},
   "outputs": [
    {
     "data": {
      "text/plain": [
       "{'/m/05p0rrx': 'Bitcoin',\n",
       " 'BTC': 'BTC',\n",
       " 'BIT': 'BIT',\n",
       " 'Bitcoin Price': 'Bitcoin Price',\n",
       " '/m/0r8lyw7': 'Digital Currency',\n",
       " 'Altcoin': 'Altcoin',\n",
       " '/m/0_1fcmj': 'Blockchain',\n",
       " 'Block': 'Block',\n",
       " 'Crypto': 'Crypto',\n",
       " '/m/01ld0': 'Cryptography',\n",
       " '/m/0vpj4_b': 'Cryptocurrency',\n",
       " '/g/12nwxv98s': 'DeFi',\n",
       " '/g/11hcjtkkcv': 'DAPP',\n",
       " 'Ethereum': 'Ethereum',\n",
       " '/g/11qgz2_44f': 'Bitcoin Mining',\n",
       " '/g/11fsw_ffbn': 'Bitcoin Wallet',\n",
       " 'Bitcoin News': 'Bitcoin News',\n",
       " 'Bitcoin Address': 'Bitcoin Address',\n",
       " 'Bitcoin Investment': 'Bitcoin Investment',\n",
       " '/m/017txn': 'Fiat money',\n",
       " 'Fork': 'Fork',\n",
       " '/g/11f760cfwp': 'Stablecoin',\n",
       " 'ICO': 'ICO',\n",
       " 'Private Key': 'Private Key',\n",
       " 'Hash Rate': 'Hash Rate',\n",
       " '/m/060b5': 'P2P'}"
      ]
     },
     "execution_count": 27,
     "metadata": {},
     "output_type": "execute_result"
    }
   ],
   "source": [
    "transform_dict = createDict(keywords = keywords, keyword_choices = keyword_choices)\n",
    "transform_dict"
   ]
  },
  {
   "cell_type": "markdown",
   "id": "914ce92e-33f8-4025-b8a2-434819d33d93",
   "metadata": {},
   "source": [
    "## Save exact_keywords and transform_dict to file"
   ]
  },
  {
   "cell_type": "code",
   "execution_count": 28,
   "id": "f62cdee3-fe61-4a7f-826d-b6668d85dd83",
   "metadata": {},
   "outputs": [],
   "source": [
    "import pickle"
   ]
  },
  {
   "cell_type": "code",
   "execution_count": 29,
   "id": "b8a1c5b6-2af4-494a-bb05-623aacca7f29",
   "metadata": {},
   "outputs": [],
   "source": [
    "with open(\"raw_keywords\", \"wb\") as fp:   #Pickling\n",
    "    pickle.dump(keywords, fp)"
   ]
  },
  {
   "cell_type": "code",
   "execution_count": 30,
   "id": "932fc02b-f7b8-41d4-acfd-e49587d19647",
   "metadata": {},
   "outputs": [],
   "source": [
    "with open(\"exact_keywords\", \"wb\") as fp:   #Pickling\n",
    "    pickle.dump(exact_keywords, fp)"
   ]
  },
  {
   "cell_type": "markdown",
   "id": "24208fc1-f429-4b0e-972c-b242dce066f2",
   "metadata": {},
   "source": [
    "## Get Data From Google"
   ]
  },
  {
   "cell_type": "code",
   "execution_count": 14,
   "id": "096b5b88-e05f-4005-a736-08b983ed2d2d",
   "metadata": {},
   "outputs": [],
   "source": [
    "start_year = 2022\n",
    "start_mon = 1\n",
    "\n",
    "from datetime import datetime\n",
    "today = datetime.today()\n",
    "stop_year = today.year\n",
    "stop_mon = today.month"
   ]
  },
  {
   "cell_type": "code",
   "execution_count": null,
   "id": "c510340e-51a0-492c-8823-cac7b41c527c",
   "metadata": {
    "tags": []
   },
   "outputs": [],
   "source": [
    "df_list = []\n",
    "for word in exact_keywords:\n",
    "    clear_output(wait=True)\n",
    "    temp = dailydata.get_daily_data(word = word, start_year = start_year, start_mon = start_mon, stop_year = stop_year, stop_mon = stop_mon, verbose = True)\n",
    "    #temp = temp[temp['isPartial'] == False]\n",
    "    temp.to_csv(f'raw/{transform_dict[word]}.csv')\n",
    "    df_list.append(temp[:-1][word])\n",
    "    print(word + ' done\\n')\n",
    "    time.sleep(100)"
   ]
  }
 ],
 "metadata": {
  "kernelspec": {
   "display_name": "Python 3 (ipykernel)",
   "language": "python",
   "name": "python3"
  },
  "language_info": {
   "codemirror_mode": {
    "name": "ipython",
    "version": 3
   },
   "file_extension": ".py",
   "mimetype": "text/x-python",
   "name": "python",
   "nbconvert_exporter": "python",
   "pygments_lexer": "ipython3",
   "version": "3.9.18"
  }
 },
 "nbformat": 4,
 "nbformat_minor": 5
}
