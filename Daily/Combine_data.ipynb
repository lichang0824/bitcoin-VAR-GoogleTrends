{
 "cells": [
  {
   "cell_type": "code",
   "execution_count": 1,
   "id": "ab7eb896-9cea-442a-bc66-636fd223442b",
   "metadata": {},
   "outputs": [],
   "source": [
    "import pandas as pd\n",
    "import os\n",
    "import pickle"
   ]
  },
  {
   "cell_type": "code",
   "execution_count": 2,
   "id": "4ec61ace-d881-4758-adb0-c7de008593d4",
   "metadata": {},
   "outputs": [],
   "source": [
    "input_folder_path = './raw/'\n",
    "directory = os.fsencode(input_folder_path)"
   ]
  },
  {
   "cell_type": "code",
   "execution_count": 3,
   "id": "deb64464-a75b-47f6-89e8-76881b96e3e7",
   "metadata": {},
   "outputs": [],
   "source": [
    "list_of_file_paths = []\n",
    "list_of_file_names = []\n",
    "for file in os.listdir(directory):\n",
    "    if os.fsdecode(file) != '.ipynb_checkpoints':\n",
    "        list_of_file_paths.append(input_folder_path + os.fsdecode(file))\n",
    "        list_of_file_names.append(os.fsdecode(file))"
   ]
  },
  {
   "cell_type": "code",
   "execution_count": 4,
   "id": "7e7650c1-1b7a-4574-8a16-dfab9555aabb",
   "metadata": {},
   "outputs": [
    {
     "data": {
      "text/plain": [
       "['./raw/Altcoin.csv',\n",
       " './raw/BIT.csv',\n",
       " './raw/Bitcoin Address.csv',\n",
       " './raw/Bitcoin Investment.csv',\n",
       " './raw/Bitcoin Mining.csv',\n",
       " './raw/Bitcoin News.csv',\n",
       " './raw/Bitcoin Price.csv',\n",
       " './raw/Bitcoin Wallet.csv',\n",
       " './raw/Bitcoin.csv',\n",
       " './raw/Block.csv',\n",
       " './raw/Blockchain.csv',\n",
       " './raw/BTC.csv',\n",
       " './raw/Crypto.csv',\n",
       " './raw/Cryptocurrency.csv',\n",
       " './raw/Cryptography.csv',\n",
       " './raw/DAPP.csv',\n",
       " './raw/DeFi.csv',\n",
       " './raw/Digital Currency.csv',\n",
       " './raw/Ethereum.csv',\n",
       " './raw/Fiat money.csv',\n",
       " './raw/Fork.csv',\n",
       " './raw/Hash Rate.csv',\n",
       " './raw/ICO.csv',\n",
       " './raw/P2P.csv',\n",
       " './raw/Private Key.csv',\n",
       " './raw/Stablecoin.csv']"
      ]
     },
     "execution_count": 4,
     "metadata": {},
     "output_type": "execute_result"
    }
   ],
   "source": [
    "list_of_file_paths"
   ]
  },
  {
   "cell_type": "code",
   "execution_count": 5,
   "id": "c40a7b30-870b-4389-bdfd-190ad36bf937",
   "metadata": {},
   "outputs": [],
   "source": [
    "with open('raw_keywords', 'rb') as f:\n",
    "    raw = pickle.load(f)\n",
    "with open('exact_keywords', 'rb') as f:\n",
    "    exact = pickle.load(f)"
   ]
  },
  {
   "cell_type": "code",
   "execution_count": 6,
   "id": "c3432a2c-8414-44ca-97ec-1eb5cd2940ee",
   "metadata": {},
   "outputs": [],
   "source": [
    "transform_dict = dict(zip(raw, exact))\n",
    "transform_back_dict = dict(zip(exact, raw))"
   ]
  },
  {
   "cell_type": "code",
   "execution_count": 7,
   "id": "38cae3ec-8995-4862-8293-93b69e72bbdc",
   "metadata": {},
   "outputs": [
    {
     "data": {
      "text/plain": [
       "{'Bitcoin': '/m/05p0rrx',\n",
       " 'BTC': 'BTC',\n",
       " 'BIT': 'BIT',\n",
       " 'Bitcoin Price': 'Bitcoin Price',\n",
       " 'Digital Currency': '/m/0r8lyw7',\n",
       " 'Altcoin': 'Altcoin',\n",
       " 'Blockchain': '/m/0_1fcmj',\n",
       " 'Block': 'Block',\n",
       " 'Crypto': 'Crypto',\n",
       " 'Cryptography': '/m/01ld0',\n",
       " 'Cryptocurrency': '/m/0vpj4_b',\n",
       " 'DeFi': '/g/12nwxv98s',\n",
       " 'DAPP': '/g/11hcjtkkcv',\n",
       " 'Ethereum': 'Ethereum',\n",
       " 'Bitcoin Mining': '/g/11qgz2_44f',\n",
       " 'Bitcoin Wallet': '/g/11fsw_ffbn',\n",
       " 'Bitcoin News': 'Bitcoin News',\n",
       " 'Bitcoin Address': 'Bitcoin Address',\n",
       " 'Bitcoin Investment': 'Bitcoin Investment',\n",
       " 'Fiat money': '/m/017txn',\n",
       " 'Fork': 'Fork',\n",
       " 'Stablecoin': '/g/11f760cfwp',\n",
       " 'ICO': 'ICO',\n",
       " 'Private Key': 'Private Key',\n",
       " 'Hash Rate': 'Hash Rate',\n",
       " 'P2P': '/m/060b5'}"
      ]
     },
     "execution_count": 7,
     "metadata": {},
     "output_type": "execute_result"
    }
   ],
   "source": [
    "transform_dict"
   ]
  },
  {
   "cell_type": "code",
   "execution_count": 8,
   "id": "89d717c8-3279-479a-8b14-3f92280d0260",
   "metadata": {},
   "outputs": [],
   "source": [
    "df_list = []\n",
    "for i in range(len(list_of_file_paths)):\n",
    "    df_list.append(pd.read_csv(list_of_file_paths[i])[1:][transform_dict[list_of_file_names[i][:-4]]])"
   ]
  },
  {
   "cell_type": "code",
   "execution_count": 10,
   "id": "be2251ae-9118-4d99-9bd8-841b8ec3832d",
   "metadata": {},
   "outputs": [],
   "source": [
    "df_trends = pd.concat(df_list, axis = 1)\n",
    "df_trends.rename(columns = transform_back_dict, inplace = True)\n",
    "df_trends.to_csv('trends.csv')"
   ]
  },
  {
   "cell_type": "code",
   "execution_count": null,
   "id": "993d479e-449d-43c6-ae3f-75d30cfea6e5",
   "metadata": {},
   "outputs": [],
   "source": []
  }
 ],
 "metadata": {
  "kernelspec": {
   "display_name": "Python 3 (ipykernel)",
   "language": "python",
   "name": "python3"
  },
  "language_info": {
   "codemirror_mode": {
    "name": "ipython",
    "version": 3
   },
   "file_extension": ".py",
   "mimetype": "text/x-python",
   "name": "python",
   "nbconvert_exporter": "python",
   "pygments_lexer": "ipython3",
   "version": "3.9.18"
  }
 },
 "nbformat": 4,
 "nbformat_minor": 5
}
