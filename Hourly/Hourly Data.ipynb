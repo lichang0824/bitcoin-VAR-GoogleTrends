{
 "cells": [
  {
   "cell_type": "markdown",
   "id": "0780bdc1-253d-434f-a731-114225ba0032",
   "metadata": {
    "tags": []
   },
   "source": [
    "## Import"
   ]
  },
  {
   "cell_type": "code",
   "execution_count": 1,
   "id": "7f499d9f-c706-49e9-b8b4-7cf880b4aeea",
   "metadata": {},
   "outputs": [],
   "source": [
    "import pandas as pd\n",
    "import pytrends\n",
    "from pytrends.request import TrendReq\n",
    "from pytrends import dailydata\n",
    "pytrend = TrendReq()\n",
    "import time"
   ]
  },
  {
   "cell_type": "markdown",
   "id": "7eecd9c3-c752-40e1-b53e-f8a8e80b21c9",
   "metadata": {
    "tags": []
   },
   "source": [
    "## Choose Keywords"
   ]
  },
  {
   "cell_type": "code",
   "execution_count": 2,
   "id": "bf47c9be-7923-49a3-b1e9-96f1ef4a579c",
   "metadata": {
    "tags": []
   },
   "outputs": [],
   "source": [
    "keywords = ['Bitcoin', 'Bitcoin Crash', 'Blockchain', 'Crisis', 'Cryptocurrency', 'Nicehash', 'Hashing', 'GPU', 'GeForce', 'mining', 'Tesla']"
   ]
  },
  {
   "cell_type": "markdown",
   "id": "d58987cc-0c6d-485f-a184-fda1d5979318",
   "metadata": {},
   "source": [
    "## Show Keywords Topics"
   ]
  },
  {
   "cell_type": "code",
   "execution_count": 3,
   "id": "51a0a713-e681-4002-aed0-39e1af9a55d1",
   "metadata": {},
   "outputs": [],
   "source": [
    "def printTopics(keywords):\n",
    "    for word in keywords:\n",
    "        print(word)\n",
    "        for (i, item) in enumerate(pytrend.suggestions(keyword = word), start=0):\n",
    "            print(i, item)\n",
    "        print('\\n')"
   ]
  },
  {
   "cell_type": "code",
   "execution_count": 4,
   "id": "490f6102-c35e-4050-b710-8682fb51ba52",
   "metadata": {},
   "outputs": [
    {
     "name": "stdout",
     "output_type": "stream",
     "text": [
      "Bitcoin\n",
      "0 {'mid': '/g/11gdq16zww', 'title': 'Bitcoin.com', 'type': 'Bank'}\n",
      "1 {'mid': '/m/0y4vk1r', 'title': 'Kraken', 'type': 'Topic'}\n",
      "2 {'mid': '/g/11dd_vr5kv', 'title': 'Mercado Bitcoin', 'type': 'Bank'}\n",
      "3 {'mid': '/g/11d_wtvc5k', 'title': 'Bitcoin Cash', 'type': 'Cryptocurrency'}\n",
      "4 {'mid': '/m/0_lgq95', 'title': 'Bitcoin ATM', 'type': 'Topic'}\n",
      "\n",
      "\n",
      "Bitcoin Crash\n",
      "0 {'mid': '/g/11cpjdwq0h', 'title': 'The Age of Cryptocurrency: How Bitcoin and Digital Money Are Challenging the Global Economic Order', 'type': 'Topic'}\n",
      "1 {'mid': '/g/11h1k1h2fk', 'title': 'The Crypto Trader', 'type': 'Topic'}\n",
      "2 {'mid': '/g/11ddzrmr80', 'title': 'Cracking Codes with Python: An Introduction to Building and Breaking Ciphers', 'type': 'Topic'}\n",
      "\n",
      "\n",
      "Blockchain\n",
      "0 {'mid': '/g/11jlgmlm5n', 'title': 'MetaMask', 'type': 'Software'}\n",
      "1 {'mid': '/g/11gmg1mr27', 'title': 'BlockChain', 'type': 'Song'}\n",
      "2 {'mid': '/m/0_1fcmj', 'title': 'Blockchain.com', 'type': 'Topic'}\n",
      "3 {'mid': '/g/11hy9ll3hv', 'title': 'blockchain', 'type': 'Topic'}\n",
      "4 {'mid': '/m/03p1jr5', 'title': 'Riot Blockchain', 'type': 'Company'}\n",
      "\n",
      "\n",
      "Crisis\n",
      "0 {'mid': '/m/01ft14', 'title': 'Curb Your Enthusiasm', 'type': 'American sitcom'}\n",
      "1 {'mid': '/m/0ddf2bm', 'title': 'Crazy, Stupid, Love', 'type': '2011 film'}\n",
      "2 {'mid': '/g/11dxmm9dw9', 'title': 'CRISIS: Special Security Squad', 'type': 'Drama series'}\n",
      "3 {'mid': '/m/03rfz7', 'title': 'Crisis hotline', 'type': 'Topic'}\n",
      "4 {'mid': '/m/01zxx', 'title': 'Cuban Missile Crisis', 'type': 'War'}\n",
      "\n",
      "\n",
      "Cryptocurrency\n",
      "0 {'mid': '/m/0vpj4_b', 'title': 'Cryptocurrency', 'type': 'Topic'}\n",
      "1 {'mid': '/m/0965sb', 'title': 'Cryptocurrency exchange', 'type': 'Topic'}\n",
      "2 {'mid': '/g/11f1059m3c', 'title': 'Cryptocurrency wallet', 'type': 'Topic'}\n",
      "3 {'mid': '/g/11b7n_tmtk', 'title': 'cryptocurrency mining', 'type': 'Topic'}\n",
      "4 {'mid': '/g/11jpgft58h', 'title': 'BitMart', 'type': 'Software'}\n",
      "\n",
      "\n",
      "Nicehash\n",
      "0 {'mid': '/g/11gf8fjrxc', 'title': 'NiceHash', 'type': 'Company'}\n",
      "1 {'mid': '/g/11f03v_9ys', 'title': 'Attack of the 50 Foot Blockchain: Bitcoin, Blockchain, Ethereum & Smart Contracts', 'type': 'Topic'}\n",
      "\n",
      "\n",
      "Hashing\n",
      "0 {'mid': '/m/03l5h', 'title': 'Hash function', 'type': 'Topic'}\n",
      "1 {'mid': '/m/02rm7ly', 'title': 'Locality-sensitive hashing', 'type': 'Topic'}\n",
      "2 {'mid': '/m/07crkq', 'title': 'Consistent hashing', 'type': 'Topic'}\n",
      "3 {'mid': '/m/05d9x5', 'title': 'Double hashing', 'type': 'Topic'}\n",
      "4 {'mid': '/m/026nrq0', 'title': 'Extendible hashing', 'type': 'Topic'}\n",
      "\n",
      "\n",
      "GPU\n",
      "0 {'mid': '/m/022l1f', 'title': 'Graphics processing unit', 'type': 'Topic'}\n",
      "1 {'mid': '/m/0h638fd', 'title': 'GPU-Z', 'type': 'Software'}\n",
      "2 {'mid': '/m/012ngxqd', 'title': 'Kinetica', 'type': 'Software'}\n",
      "3 {'mid': '/g/11jnm2t2qf', 'title': 'Cooler Master Coolermaster MCA-U000R-KFVK01 Universal Vertical GPU Holder Kit Ver.2 Black', 'type': 'Topic'}\n",
      "4 {'mid': '/m/0bmg0g_', 'title': 'The Red Terror', 'type': 'Film'}\n",
      "\n",
      "\n",
      "GeForce\n",
      "0 {'mid': '/m/0132b8', 'title': 'GeForce', 'type': 'Topic'}\n",
      "1 {'mid': '/g/11c47zkb1r', 'title': 'GeForce Now', 'type': 'Topic'}\n",
      "2 {'mid': '/g/11k_pqs1fj', 'title': 'NVIDIA GeForce RTX 3090', 'type': 'Topic'}\n",
      "3 {'mid': '/g/11csb4412b', 'title': 'NVIDIA GeForce GTX 1050 Ti', 'type': 'Topic'}\n",
      "4 {'mid': '/g/11htbtccjn', 'title': 'NVIDIA GeForce RTX 3080', 'type': 'Topic'}\n",
      "\n",
      "\n",
      "mining\n",
      "0 {'mid': '/m/053rd', 'title': 'Mining', 'type': 'Topic'}\n",
      "1 {'mid': '/m/0h1jr', 'title': '3M', 'type': 'Multinational conglomerate company'}\n",
      "2 {'mid': '/m/01hyh_', 'title': 'Machine learning', 'type': 'Field of study'}\n",
      "3 {'mid': '/m/0blvg', 'title': 'Data mining', 'type': 'Topic'}\n",
      "4 {'mid': '/m/01gmc4', 'title': 'The London Metal Exchange', 'type': 'Financial institution in London, England'}\n",
      "\n",
      "\n",
      "Tesla\n",
      "0 {'mid': '/m/0dr90d', 'title': 'Tesla, Inc.', 'type': 'Automotive company'}\n",
      "1 {'mid': '/m/0j6n6s8', 'title': 'Tesla', 'type': 'Car make'}\n",
      "2 {'mid': '/g/11c3x48pb7', 'title': 'Tesla Model 3', 'type': 'Compact'}\n",
      "3 {'mid': '/g/11gb_4f22x', 'title': 'Tesla Model Y', 'type': 'Compact sport utility vehicle'}\n",
      "4 {'mid': '/g/11g1bplvvh', 'title': 'Tesla Cybertruck', 'type': 'Car model'}\n",
      "\n",
      "\n"
     ]
    }
   ],
   "source": [
    "printTopics(keywords)"
   ]
  },
  {
   "cell_type": "markdown",
   "id": "4e725d06-556c-4378-bd64-8a586914c803",
   "metadata": {
    "tags": []
   },
   "source": [
    "## Choose Keyword Topic"
   ]
  },
  {
   "cell_type": "code",
   "execution_count": 5,
   "id": "7b870ad4-38a2-48df-bfb5-fd49ef311e82",
   "metadata": {},
   "outputs": [],
   "source": [
    "keyword_choices = [0, -1, 2, -1, 0, 0, 0, 0, 0, 0, 0]"
   ]
  },
  {
   "cell_type": "code",
   "execution_count": 6,
   "id": "80169a1e-a172-4fad-b7b7-4e29a56c80f7",
   "metadata": {},
   "outputs": [],
   "source": [
    "def applyChoices(keywords, keyword_choices = [0] * len(keywords)):\n",
    "    return [keywords[i] if keyword_choices[i] == -1 else pytrend.suggestions(keyword = keywords[i])[keyword_choices[i]]['mid'] for i in range(len(keywords))]"
   ]
  },
  {
   "cell_type": "markdown",
   "id": "a1843b17-f82b-47a4-8b4f-2871dc1fc70f",
   "metadata": {},
   "source": [
    "-1 means we don't use any suggestions, but the original keyword instead <br>\n",
    "0 or above means we use the corresponding suggestion"
   ]
  },
  {
   "cell_type": "code",
   "execution_count": 7,
   "id": "d04fcd9d-876d-485f-a8a9-3d6d8dbf1876",
   "metadata": {},
   "outputs": [],
   "source": [
    "def createDict(keywords, keyword_choices = [0] * len(keywords)):\n",
    "    return {keywords[i] if keyword_choices[i] == -1 else pytrend.suggestions(keyword = keywords[i])[keyword_choices[i]]['mid'] : keywords[i] for i in range(len(keywords))}"
   ]
  },
  {
   "cell_type": "code",
   "execution_count": 8,
   "id": "154a23c3-55dc-4c15-9879-587923a01407",
   "metadata": {},
   "outputs": [
    {
     "data": {
      "text/plain": [
       "['/g/11gdq16zww',\n",
       " 'Bitcoin Crash',\n",
       " '/m/0_1fcmj',\n",
       " 'Crisis',\n",
       " '/m/0vpj4_b',\n",
       " '/g/11gf8fjrxc',\n",
       " '/m/03l5h',\n",
       " '/m/022l1f',\n",
       " '/m/0132b8',\n",
       " '/m/053rd',\n",
       " '/m/0dr90d']"
      ]
     },
     "execution_count": 8,
     "metadata": {},
     "output_type": "execute_result"
    }
   ],
   "source": [
    "exact_keywords = applyChoices(keywords = keywords, keyword_choices = keyword_choices)\n",
    "exact_keywords"
   ]
  },
  {
   "cell_type": "code",
   "execution_count": 9,
   "id": "07272812-0a2d-4319-a952-045b32376c80",
   "metadata": {},
   "outputs": [
    {
     "data": {
      "text/plain": [
       "{'/g/11gdq16zww': 'Bitcoin',\n",
       " 'Bitcoin Crash': 'Bitcoin Crash',\n",
       " '/m/0_1fcmj': 'Blockchain',\n",
       " 'Crisis': 'Crisis',\n",
       " '/m/0vpj4_b': 'Cryptocurrency',\n",
       " '/g/11gf8fjrxc': 'Nicehash',\n",
       " '/m/03l5h': 'Hashing',\n",
       " '/m/022l1f': 'GPU',\n",
       " '/m/0132b8': 'GeForce',\n",
       " '/m/053rd': 'mining',\n",
       " '/m/0dr90d': 'Tesla'}"
      ]
     },
     "execution_count": 9,
     "metadata": {},
     "output_type": "execute_result"
    }
   ],
   "source": [
    "transform_dict = createDict(keywords = keywords, keyword_choices = keyword_choices)\n",
    "transform_dict"
   ]
  },
  {
   "cell_type": "markdown",
   "id": "9fa4e51c-f809-4c9f-b19b-080b99f899f4",
   "metadata": {},
   "source": [
    "## Get Data from Google"
   ]
  },
  {
   "cell_type": "code",
   "execution_count": 10,
   "id": "a91753f5-9b61-4207-bc3e-6417e90a0506",
   "metadata": {
    "tags": []
   },
   "outputs": [],
   "source": [
    "year_start = 2022\n",
    "month_start = 5\n",
    "day_start = 1\n",
    "hour_start = 0\n",
    "\n",
    "from datetime import datetime\n",
    "today = datetime.today()\n",
    "year_end = today.year\n",
    "month_end = today.month\n",
    "day_end = today.day + 1\n",
    "hour_end = 0"
   ]
  },
  {
   "cell_type": "code",
   "execution_count": 11,
   "id": "b89e13ed-a30f-44fb-a6a1-000655e7bdbf",
   "metadata": {},
   "outputs": [],
   "source": [
    "df_list = []\n",
    "for keyword in exact_keywords:\n",
    "    temp = pytrend.get_historical_interest([keyword], year_start = year_start, month_start = month_start, day_start = day_start, hour_start = hour_start, year_end = year_end, month_end = month_end, day_end = day_end, hour_end = hour_end, cat=0, geo='', gprop='', sleep=0)\n",
    "    temp = temp[temp['isPartial'] == False]\n",
    "    df_list.append(temp[keyword])"
   ]
  },
  {
   "cell_type": "code",
   "execution_count": 12,
   "id": "b29ff900-6669-47af-b450-f87ff8462065",
   "metadata": {},
   "outputs": [
    {
     "data": {
      "text/html": [
       "<div>\n",
       "<style scoped>\n",
       "    .dataframe tbody tr th:only-of-type {\n",
       "        vertical-align: middle;\n",
       "    }\n",
       "\n",
       "    .dataframe tbody tr th {\n",
       "        vertical-align: top;\n",
       "    }\n",
       "\n",
       "    .dataframe thead th {\n",
       "        text-align: right;\n",
       "    }\n",
       "</style>\n",
       "<table border=\"1\" class=\"dataframe\">\n",
       "  <thead>\n",
       "    <tr style=\"text-align: right;\">\n",
       "      <th></th>\n",
       "      <th>Bitcoin</th>\n",
       "      <th>Bitcoin Crash</th>\n",
       "      <th>Blockchain</th>\n",
       "      <th>Crisis</th>\n",
       "      <th>Cryptocurrency</th>\n",
       "      <th>Nicehash</th>\n",
       "      <th>Hashing</th>\n",
       "      <th>GPU</th>\n",
       "      <th>GeForce</th>\n",
       "      <th>mining</th>\n",
       "      <th>Tesla</th>\n",
       "    </tr>\n",
       "    <tr>\n",
       "      <th>time</th>\n",
       "      <th></th>\n",
       "      <th></th>\n",
       "      <th></th>\n",
       "      <th></th>\n",
       "      <th></th>\n",
       "      <th></th>\n",
       "      <th></th>\n",
       "      <th></th>\n",
       "      <th></th>\n",
       "      <th></th>\n",
       "      <th></th>\n",
       "    </tr>\n",
       "  </thead>\n",
       "  <tbody>\n",
       "    <tr>\n",
       "      <th>2022-05-01 00:00:00</th>\n",
       "      <td>0</td>\n",
       "      <td>32</td>\n",
       "      <td>47</td>\n",
       "      <td>67</td>\n",
       "      <td>86</td>\n",
       "      <td>36</td>\n",
       "      <td>22</td>\n",
       "      <td>66</td>\n",
       "      <td>63</td>\n",
       "      <td>64</td>\n",
       "      <td>68</td>\n",
       "    </tr>\n",
       "    <tr>\n",
       "      <th>2022-05-01 01:00:00</th>\n",
       "      <td>0</td>\n",
       "      <td>65</td>\n",
       "      <td>34</td>\n",
       "      <td>54</td>\n",
       "      <td>86</td>\n",
       "      <td>18</td>\n",
       "      <td>40</td>\n",
       "      <td>43</td>\n",
       "      <td>63</td>\n",
       "      <td>62</td>\n",
       "      <td>78</td>\n",
       "    </tr>\n",
       "    <tr>\n",
       "      <th>2022-05-01 02:00:00</th>\n",
       "      <td>40</td>\n",
       "      <td>34</td>\n",
       "      <td>25</td>\n",
       "      <td>70</td>\n",
       "      <td>87</td>\n",
       "      <td>0</td>\n",
       "      <td>32</td>\n",
       "      <td>60</td>\n",
       "      <td>70</td>\n",
       "      <td>63</td>\n",
       "      <td>64</td>\n",
       "    </tr>\n",
       "    <tr>\n",
       "      <th>2022-05-01 03:00:00</th>\n",
       "      <td>81</td>\n",
       "      <td>35</td>\n",
       "      <td>61</td>\n",
       "      <td>51</td>\n",
       "      <td>84</td>\n",
       "      <td>19</td>\n",
       "      <td>24</td>\n",
       "      <td>68</td>\n",
       "      <td>46</td>\n",
       "      <td>68</td>\n",
       "      <td>60</td>\n",
       "    </tr>\n",
       "    <tr>\n",
       "      <th>2022-05-01 04:00:00</th>\n",
       "      <td>0</td>\n",
       "      <td>0</td>\n",
       "      <td>37</td>\n",
       "      <td>74</td>\n",
       "      <td>83</td>\n",
       "      <td>20</td>\n",
       "      <td>44</td>\n",
       "      <td>65</td>\n",
       "      <td>44</td>\n",
       "      <td>63</td>\n",
       "      <td>60</td>\n",
       "    </tr>\n",
       "    <tr>\n",
       "      <th>...</th>\n",
       "      <td>...</td>\n",
       "      <td>...</td>\n",
       "      <td>...</td>\n",
       "      <td>...</td>\n",
       "      <td>...</td>\n",
       "      <td>...</td>\n",
       "      <td>...</td>\n",
       "      <td>...</td>\n",
       "      <td>...</td>\n",
       "      <td>...</td>\n",
       "      <td>...</td>\n",
       "    </tr>\n",
       "    <tr>\n",
       "      <th>2022-06-18 21:00:00</th>\n",
       "      <td>100</td>\n",
       "      <td>45</td>\n",
       "      <td>40</td>\n",
       "      <td>32</td>\n",
       "      <td>67</td>\n",
       "      <td>67</td>\n",
       "      <td>45</td>\n",
       "      <td>81</td>\n",
       "      <td>90</td>\n",
       "      <td>58</td>\n",
       "      <td>62</td>\n",
       "    </tr>\n",
       "    <tr>\n",
       "      <th>2022-06-18 22:00:00</th>\n",
       "      <td>90</td>\n",
       "      <td>27</td>\n",
       "      <td>37</td>\n",
       "      <td>33</td>\n",
       "      <td>55</td>\n",
       "      <td>70</td>\n",
       "      <td>42</td>\n",
       "      <td>84</td>\n",
       "      <td>87</td>\n",
       "      <td>58</td>\n",
       "      <td>65</td>\n",
       "    </tr>\n",
       "    <tr>\n",
       "      <th>2022-06-18 23:00:00</th>\n",
       "      <td>67</td>\n",
       "      <td>21</td>\n",
       "      <td>37</td>\n",
       "      <td>34</td>\n",
       "      <td>48</td>\n",
       "      <td>62</td>\n",
       "      <td>37</td>\n",
       "      <td>80</td>\n",
       "      <td>81</td>\n",
       "      <td>59</td>\n",
       "      <td>61</td>\n",
       "    </tr>\n",
       "    <tr>\n",
       "      <th>2022-06-19 00:00:00</th>\n",
       "      <td>66</td>\n",
       "      <td>21</td>\n",
       "      <td>36</td>\n",
       "      <td>33</td>\n",
       "      <td>46</td>\n",
       "      <td>56</td>\n",
       "      <td>32</td>\n",
       "      <td>78</td>\n",
       "      <td>82</td>\n",
       "      <td>64</td>\n",
       "      <td>59</td>\n",
       "    </tr>\n",
       "    <tr>\n",
       "      <th>2022-06-19 00:00:00</th>\n",
       "      <td>88</td>\n",
       "      <td>91</td>\n",
       "      <td>87</td>\n",
       "      <td>90</td>\n",
       "      <td>79</td>\n",
       "      <td>87</td>\n",
       "      <td>82</td>\n",
       "      <td>92</td>\n",
       "      <td>100</td>\n",
       "      <td>86</td>\n",
       "      <td>100</td>\n",
       "    </tr>\n",
       "  </tbody>\n",
       "</table>\n",
       "<p>1184 rows × 11 columns</p>\n",
       "</div>"
      ],
      "text/plain": [
       "                     Bitcoin  Bitcoin Crash  Blockchain  Crisis  \\\n",
       "time                                                              \n",
       "2022-05-01 00:00:00        0             32          47      67   \n",
       "2022-05-01 01:00:00        0             65          34      54   \n",
       "2022-05-01 02:00:00       40             34          25      70   \n",
       "2022-05-01 03:00:00       81             35          61      51   \n",
       "2022-05-01 04:00:00        0              0          37      74   \n",
       "...                      ...            ...         ...     ...   \n",
       "2022-06-18 21:00:00      100             45          40      32   \n",
       "2022-06-18 22:00:00       90             27          37      33   \n",
       "2022-06-18 23:00:00       67             21          37      34   \n",
       "2022-06-19 00:00:00       66             21          36      33   \n",
       "2022-06-19 00:00:00       88             91          87      90   \n",
       "\n",
       "                     Cryptocurrency  Nicehash  Hashing  GPU  GeForce  mining  \\\n",
       "time                                                                           \n",
       "2022-05-01 00:00:00              86        36       22   66       63      64   \n",
       "2022-05-01 01:00:00              86        18       40   43       63      62   \n",
       "2022-05-01 02:00:00              87         0       32   60       70      63   \n",
       "2022-05-01 03:00:00              84        19       24   68       46      68   \n",
       "2022-05-01 04:00:00              83        20       44   65       44      63   \n",
       "...                             ...       ...      ...  ...      ...     ...   \n",
       "2022-06-18 21:00:00              67        67       45   81       90      58   \n",
       "2022-06-18 22:00:00              55        70       42   84       87      58   \n",
       "2022-06-18 23:00:00              48        62       37   80       81      59   \n",
       "2022-06-19 00:00:00              46        56       32   78       82      64   \n",
       "2022-06-19 00:00:00              79        87       82   92      100      86   \n",
       "\n",
       "                     Tesla  \n",
       "time                        \n",
       "2022-05-01 00:00:00     68  \n",
       "2022-05-01 01:00:00     78  \n",
       "2022-05-01 02:00:00     64  \n",
       "2022-05-01 03:00:00     60  \n",
       "2022-05-01 04:00:00     60  \n",
       "...                    ...  \n",
       "2022-06-18 21:00:00     62  \n",
       "2022-06-18 22:00:00     65  \n",
       "2022-06-18 23:00:00     61  \n",
       "2022-06-19 00:00:00     59  \n",
       "2022-06-19 00:00:00    100  \n",
       "\n",
       "[1184 rows x 11 columns]"
      ]
     },
     "execution_count": 12,
     "metadata": {},
     "output_type": "execute_result"
    }
   ],
   "source": [
    "df_trends = pd.concat(df_list, axis = 1)\n",
    "df_trends.rename(columns = transform_dict, inplace = True)\n",
    "df_trends.index.name = 'time'\n",
    "df_trends"
   ]
  },
  {
   "cell_type": "code",
   "execution_count": 13,
   "id": "7977cecc-5fac-4271-a652-3c91fb9e4dd1",
   "metadata": {},
   "outputs": [],
   "source": [
    "df_trends.to_csv('trends.csv')"
   ]
  },
  {
   "cell_type": "code",
   "execution_count": null,
   "id": "04b4f932-1fe3-42be-9cc0-de8a61ebf984",
   "metadata": {},
   "outputs": [],
   "source": []
  }
 ],
 "metadata": {
  "kernelspec": {
   "display_name": "Python 3 (ipykernel)",
   "language": "python",
   "name": "python3"
  },
  "language_info": {
   "codemirror_mode": {
    "name": "ipython",
    "version": 3
   },
   "file_extension": ".py",
   "mimetype": "text/x-python",
   "name": "python",
   "nbconvert_exporter": "python",
   "pygments_lexer": "ipython3",
   "version": "3.9.12"
  }
 },
 "nbformat": 4,
 "nbformat_minor": 5
}
